{
 "cells": [
  {
   "cell_type": "markdown",
   "metadata": {},
   "source": [
    "## Deskripsi Project"
   ]
  },
  {
   "cell_type": "markdown",
   "metadata": {},
   "source": [
    "Nasabah Bank Beta pergi meninggalkan perusahaan: sedikit demi sedikit, jumlah mereka berkurang setiap bulannya. Para pegawai bank menyadari bahwa akan lebih menghemat biaya jika perusahaan fokus untuk mempertahankan nasabah lama mereka yang setia daripada menarik nasabah baru.\n",
    "Pada kasus ini, tugas kita adalah untuk memprediksi apakah seorang nasabah akan segera meninggalkan bank atau tidak. Kamu memiliki data terkait perilaku para klien di masa lalu dan riwayat pemutusan kontrak mereka dengan bank.\n",
    "Buat sebuah model dengan skor F1 semaksimal mungkin. Untuk bisa dinyatakan lulus dari peninjauan, kamu memerlukan skor F1 minimal 0,59 untuk test dataset.\n",
    "Setelah itu, kamu akan membuat perubahan yang diperlukan pada pekerjaanmu dan mengirimkannya kembali untuk tinjauan kedua.\n",
    "Selain itu, ukur metrik AUC-ROC dan bandingkan metrik tersebut dengan skor F1."
   ]
  },
  {
   "cell_type": "markdown",
   "metadata": {},
   "source": [
    "## Deskripsi Data"
   ]
  },
  {
   "cell_type": "markdown",
   "metadata": {},
   "source": [
    "**Fitur-fitur**\n",
    "\n",
    "- RowNumber — indeks string data\n",
    "- CustomerId — ID pelanggan\n",
    "- Surname — nama belakang\n",
    "- CreditScore — skor kredit\n",
    "- Geography — negara domisili\n",
    "- Gender — gender\n",
    "- Age — umur\n",
    "- Tenure — jangka waktu jatuh tempo untuk deposito tetap nasabah (tahun)\n",
    "- Balance — saldo rekening\n",
    "- NumOfProducts — jumlah produk bank yang digunakan oleh nasabah\n",
    "- HasCrCard — apakah nasabah memiliki kartu kredit (1 - jika ya; 0 - jika tidak)\n",
    "- IsActiveMember — tingkat keaktifan nasabah (1 - jika ya; 0 - jika tidak)\n",
    "- EstimatedSalary — estimasi gaji\n",
    "\n",
    "- Exited — apakah nasabah telah berhenti (1 - jika ya; 0 - jika tidak)"
   ]
  },
  {
   "cell_type": "markdown",
   "metadata": {},
   "source": [
    "## Tahapan\n",
    "\n"
   ]
  },
  {
   "cell_type": "markdown",
   "metadata": {},
   "source": [
    "Ada beberapa tahapan yang akan dilakukan dalam proses pengujian kali ini, diantaranya:\n",
    "\n",
    "- Tahap 1. Import Library\n",
    "- Tahap 2. Import Data dan Checking Data\n",
    "- Tahap 3. Preparing Data\n",
    "- Tahap 4. Periksa Keseimbangan Data\n",
    "- Tahap 5. Pemisahan Data\n",
    "- Tahap 6. Pelatihan Model\n",
    "- Tahap 7. Mengatasi Ketidakseimbangan Data\n",
    "- Tahap 8. Pengujian Terakhir\n",
    "- Tahap 9. Kesimpulan Umum\n"
   ]
  },
  {
   "cell_type": "markdown",
   "metadata": {},
   "source": [
    "## Tahap.1 Import Library"
   ]
  },
  {
   "cell_type": "markdown",
   "metadata": {},
   "source": [
    "Import library yang diperlukan"
   ]
  },
  {
   "cell_type": "code",
   "execution_count": 1,
   "metadata": {},
   "outputs": [],
   "source": [
    "import pandas as pd\n",
    "\n",
    "# model\n",
    "from sklearn.tree import DecisionTreeClassifier\n",
    "from sklearn.ensemble import RandomForestClassifier\n",
    "from sklearn.linear_model import LogisticRegression\n",
    "\n",
    "# split data\n",
    "from sklearn.model_selection import train_test_split\n",
    "\n",
    "# cek akurasi\n",
    "from sklearn.metrics import accuracy_score\n",
    "\n",
    "# visualisasi\n",
    "import matplotlib.pyplot as plt\n",
    "import seaborn as sns\n",
    "\n",
    "from sklearn.utils import shuffle\n",
    "from sklearn.metrics import f1_score\n",
    "from sklearn.preprocessing import StandardScaler \n",
    "from sklearn.metrics import roc_auc_score "
   ]
  },
  {
   "cell_type": "markdown",
   "metadata": {},
   "source": [
    "## Tahap 2. Import Data dan Cheking Data"
   ]
  },
  {
   "cell_type": "markdown",
   "metadata": {},
   "source": [
    "Data berada di data path berikut:\n",
    "\n",
    "- /datasets/Churn.csv"
   ]
  },
  {
   "cell_type": "code",
   "execution_count": 2,
   "metadata": {
    "scrolled": true
   },
   "outputs": [
    {
     "data": {
      "text/html": [
       "<div>\n",
       "<style scoped>\n",
       "    .dataframe tbody tr th:only-of-type {\n",
       "        vertical-align: middle;\n",
       "    }\n",
       "\n",
       "    .dataframe tbody tr th {\n",
       "        vertical-align: top;\n",
       "    }\n",
       "\n",
       "    .dataframe thead th {\n",
       "        text-align: right;\n",
       "    }\n",
       "</style>\n",
       "<table border=\"1\" class=\"dataframe\">\n",
       "  <thead>\n",
       "    <tr style=\"text-align: right;\">\n",
       "      <th></th>\n",
       "      <th>RowNumber</th>\n",
       "      <th>CustomerId</th>\n",
       "      <th>Surname</th>\n",
       "      <th>CreditScore</th>\n",
       "      <th>Geography</th>\n",
       "      <th>Gender</th>\n",
       "      <th>Age</th>\n",
       "      <th>Tenure</th>\n",
       "      <th>Balance</th>\n",
       "      <th>NumOfProducts</th>\n",
       "      <th>HasCrCard</th>\n",
       "      <th>IsActiveMember</th>\n",
       "      <th>EstimatedSalary</th>\n",
       "      <th>Exited</th>\n",
       "    </tr>\n",
       "  </thead>\n",
       "  <tbody>\n",
       "    <tr>\n",
       "      <th>0</th>\n",
       "      <td>1</td>\n",
       "      <td>15634602</td>\n",
       "      <td>Hargrave</td>\n",
       "      <td>619</td>\n",
       "      <td>France</td>\n",
       "      <td>Female</td>\n",
       "      <td>42</td>\n",
       "      <td>2.0</td>\n",
       "      <td>0.00</td>\n",
       "      <td>1</td>\n",
       "      <td>1</td>\n",
       "      <td>1</td>\n",
       "      <td>101348.88</td>\n",
       "      <td>1</td>\n",
       "    </tr>\n",
       "    <tr>\n",
       "      <th>1</th>\n",
       "      <td>2</td>\n",
       "      <td>15647311</td>\n",
       "      <td>Hill</td>\n",
       "      <td>608</td>\n",
       "      <td>Spain</td>\n",
       "      <td>Female</td>\n",
       "      <td>41</td>\n",
       "      <td>1.0</td>\n",
       "      <td>83807.86</td>\n",
       "      <td>1</td>\n",
       "      <td>0</td>\n",
       "      <td>1</td>\n",
       "      <td>112542.58</td>\n",
       "      <td>0</td>\n",
       "    </tr>\n",
       "    <tr>\n",
       "      <th>2</th>\n",
       "      <td>3</td>\n",
       "      <td>15619304</td>\n",
       "      <td>Onio</td>\n",
       "      <td>502</td>\n",
       "      <td>France</td>\n",
       "      <td>Female</td>\n",
       "      <td>42</td>\n",
       "      <td>8.0</td>\n",
       "      <td>159660.80</td>\n",
       "      <td>3</td>\n",
       "      <td>1</td>\n",
       "      <td>0</td>\n",
       "      <td>113931.57</td>\n",
       "      <td>1</td>\n",
       "    </tr>\n",
       "    <tr>\n",
       "      <th>3</th>\n",
       "      <td>4</td>\n",
       "      <td>15701354</td>\n",
       "      <td>Boni</td>\n",
       "      <td>699</td>\n",
       "      <td>France</td>\n",
       "      <td>Female</td>\n",
       "      <td>39</td>\n",
       "      <td>1.0</td>\n",
       "      <td>0.00</td>\n",
       "      <td>2</td>\n",
       "      <td>0</td>\n",
       "      <td>0</td>\n",
       "      <td>93826.63</td>\n",
       "      <td>0</td>\n",
       "    </tr>\n",
       "    <tr>\n",
       "      <th>4</th>\n",
       "      <td>5</td>\n",
       "      <td>15737888</td>\n",
       "      <td>Mitchell</td>\n",
       "      <td>850</td>\n",
       "      <td>Spain</td>\n",
       "      <td>Female</td>\n",
       "      <td>43</td>\n",
       "      <td>2.0</td>\n",
       "      <td>125510.82</td>\n",
       "      <td>1</td>\n",
       "      <td>1</td>\n",
       "      <td>1</td>\n",
       "      <td>79084.10</td>\n",
       "      <td>0</td>\n",
       "    </tr>\n",
       "    <tr>\n",
       "      <th>...</th>\n",
       "      <td>...</td>\n",
       "      <td>...</td>\n",
       "      <td>...</td>\n",
       "      <td>...</td>\n",
       "      <td>...</td>\n",
       "      <td>...</td>\n",
       "      <td>...</td>\n",
       "      <td>...</td>\n",
       "      <td>...</td>\n",
       "      <td>...</td>\n",
       "      <td>...</td>\n",
       "      <td>...</td>\n",
       "      <td>...</td>\n",
       "      <td>...</td>\n",
       "    </tr>\n",
       "    <tr>\n",
       "      <th>9995</th>\n",
       "      <td>9996</td>\n",
       "      <td>15606229</td>\n",
       "      <td>Obijiaku</td>\n",
       "      <td>771</td>\n",
       "      <td>France</td>\n",
       "      <td>Male</td>\n",
       "      <td>39</td>\n",
       "      <td>5.0</td>\n",
       "      <td>0.00</td>\n",
       "      <td>2</td>\n",
       "      <td>1</td>\n",
       "      <td>0</td>\n",
       "      <td>96270.64</td>\n",
       "      <td>0</td>\n",
       "    </tr>\n",
       "    <tr>\n",
       "      <th>9996</th>\n",
       "      <td>9997</td>\n",
       "      <td>15569892</td>\n",
       "      <td>Johnstone</td>\n",
       "      <td>516</td>\n",
       "      <td>France</td>\n",
       "      <td>Male</td>\n",
       "      <td>35</td>\n",
       "      <td>10.0</td>\n",
       "      <td>57369.61</td>\n",
       "      <td>1</td>\n",
       "      <td>1</td>\n",
       "      <td>1</td>\n",
       "      <td>101699.77</td>\n",
       "      <td>0</td>\n",
       "    </tr>\n",
       "    <tr>\n",
       "      <th>9997</th>\n",
       "      <td>9998</td>\n",
       "      <td>15584532</td>\n",
       "      <td>Liu</td>\n",
       "      <td>709</td>\n",
       "      <td>France</td>\n",
       "      <td>Female</td>\n",
       "      <td>36</td>\n",
       "      <td>7.0</td>\n",
       "      <td>0.00</td>\n",
       "      <td>1</td>\n",
       "      <td>0</td>\n",
       "      <td>1</td>\n",
       "      <td>42085.58</td>\n",
       "      <td>1</td>\n",
       "    </tr>\n",
       "    <tr>\n",
       "      <th>9998</th>\n",
       "      <td>9999</td>\n",
       "      <td>15682355</td>\n",
       "      <td>Sabbatini</td>\n",
       "      <td>772</td>\n",
       "      <td>Germany</td>\n",
       "      <td>Male</td>\n",
       "      <td>42</td>\n",
       "      <td>3.0</td>\n",
       "      <td>75075.31</td>\n",
       "      <td>2</td>\n",
       "      <td>1</td>\n",
       "      <td>0</td>\n",
       "      <td>92888.52</td>\n",
       "      <td>1</td>\n",
       "    </tr>\n",
       "    <tr>\n",
       "      <th>9999</th>\n",
       "      <td>10000</td>\n",
       "      <td>15628319</td>\n",
       "      <td>Walker</td>\n",
       "      <td>792</td>\n",
       "      <td>France</td>\n",
       "      <td>Female</td>\n",
       "      <td>28</td>\n",
       "      <td>NaN</td>\n",
       "      <td>130142.79</td>\n",
       "      <td>1</td>\n",
       "      <td>1</td>\n",
       "      <td>0</td>\n",
       "      <td>38190.78</td>\n",
       "      <td>0</td>\n",
       "    </tr>\n",
       "  </tbody>\n",
       "</table>\n",
       "<p>10000 rows × 14 columns</p>\n",
       "</div>"
      ],
      "text/plain": [
       "      RowNumber  CustomerId    Surname  CreditScore Geography  Gender  Age  \\\n",
       "0             1    15634602   Hargrave          619    France  Female   42   \n",
       "1             2    15647311       Hill          608     Spain  Female   41   \n",
       "2             3    15619304       Onio          502    France  Female   42   \n",
       "3             4    15701354       Boni          699    France  Female   39   \n",
       "4             5    15737888   Mitchell          850     Spain  Female   43   \n",
       "...         ...         ...        ...          ...       ...     ...  ...   \n",
       "9995       9996    15606229   Obijiaku          771    France    Male   39   \n",
       "9996       9997    15569892  Johnstone          516    France    Male   35   \n",
       "9997       9998    15584532        Liu          709    France  Female   36   \n",
       "9998       9999    15682355  Sabbatini          772   Germany    Male   42   \n",
       "9999      10000    15628319     Walker          792    France  Female   28   \n",
       "\n",
       "      Tenure    Balance  NumOfProducts  HasCrCard  IsActiveMember  \\\n",
       "0        2.0       0.00              1          1               1   \n",
       "1        1.0   83807.86              1          0               1   \n",
       "2        8.0  159660.80              3          1               0   \n",
       "3        1.0       0.00              2          0               0   \n",
       "4        2.0  125510.82              1          1               1   \n",
       "...      ...        ...            ...        ...             ...   \n",
       "9995     5.0       0.00              2          1               0   \n",
       "9996    10.0   57369.61              1          1               1   \n",
       "9997     7.0       0.00              1          0               1   \n",
       "9998     3.0   75075.31              2          1               0   \n",
       "9999     NaN  130142.79              1          1               0   \n",
       "\n",
       "      EstimatedSalary  Exited  \n",
       "0           101348.88       1  \n",
       "1           112542.58       0  \n",
       "2           113931.57       1  \n",
       "3            93826.63       0  \n",
       "4            79084.10       0  \n",
       "...               ...     ...  \n",
       "9995         96270.64       0  \n",
       "9996        101699.77       0  \n",
       "9997         42085.58       1  \n",
       "9998         92888.52       1  \n",
       "9999         38190.78       0  \n",
       "\n",
       "[10000 rows x 14 columns]"
      ]
     },
     "execution_count": 2,
     "metadata": {},
     "output_type": "execute_result"
    }
   ],
   "source": [
    "data = pd.read_csv('/datasets/Churn.csv')\n",
    "data"
   ]
  },
  {
   "cell_type": "code",
   "execution_count": 3,
   "metadata": {},
   "outputs": [
    {
     "data": {
      "text/plain": [
       "(10000, 14)"
      ]
     },
     "execution_count": 3,
     "metadata": {},
     "output_type": "execute_result"
    }
   ],
   "source": [
    "data.shape"
   ]
  },
  {
   "cell_type": "code",
   "execution_count": 4,
   "metadata": {},
   "outputs": [
    {
     "data": {
      "text/plain": [
       "1    5084\n",
       "2    4590\n",
       "3     266\n",
       "4      60\n",
       "Name: NumOfProducts, dtype: int64"
      ]
     },
     "execution_count": 4,
     "metadata": {},
     "output_type": "execute_result"
    }
   ],
   "source": [
    "data['NumOfProducts'].value_counts()"
   ]
  },
  {
   "cell_type": "code",
   "execution_count": 5,
   "metadata": {},
   "outputs": [
    {
     "data": {
      "text/plain": [
       "1    5151\n",
       "0    4849\n",
       "Name: IsActiveMember, dtype: int64"
      ]
     },
     "execution_count": 5,
     "metadata": {},
     "output_type": "execute_result"
    }
   ],
   "source": [
    "data['IsActiveMember'].value_counts()"
   ]
  },
  {
   "cell_type": "code",
   "execution_count": 6,
   "metadata": {},
   "outputs": [
    {
     "data": {
      "text/plain": [
       "1    7055\n",
       "0    2945\n",
       "Name: HasCrCard, dtype: int64"
      ]
     },
     "execution_count": 6,
     "metadata": {},
     "output_type": "execute_result"
    }
   ],
   "source": [
    "data['HasCrCard'].value_counts()"
   ]
  },
  {
   "cell_type": "code",
   "execution_count": 7,
   "metadata": {},
   "outputs": [
    {
     "name": "stdout",
     "output_type": "stream",
     "text": [
      "RowNumber            0\n",
      "CustomerId           0\n",
      "Surname              0\n",
      "CreditScore          0\n",
      "Geography            0\n",
      "Gender               0\n",
      "Age                  0\n",
      "Tenure             909\n",
      "Balance              0\n",
      "NumOfProducts        0\n",
      "HasCrCard            0\n",
      "IsActiveMember       0\n",
      "EstimatedSalary      0\n",
      "Exited               0\n",
      "dtype: int64\n",
      "Percent Missing Value pada kolom Tenure:\n",
      "9.09\n"
     ]
    }
   ],
   "source": [
    "print(data.isna().sum())\n",
    "print('Percent Missing Value pada kolom Tenure:')\n",
    "print(data['Tenure'].isna().sum() / len(data) * 100)"
   ]
  },
  {
   "cell_type": "code",
   "execution_count": 8,
   "metadata": {},
   "outputs": [
    {
     "name": "stdout",
     "output_type": "stream",
     "text": [
      "0    7963\n",
      "1    2037\n",
      "Name: Exited, dtype: int64\n",
      "0    79.63\n",
      "1    20.37\n",
      "Name: Exited, dtype: float64\n"
     ]
    }
   ],
   "source": [
    "print(data['Exited'].value_counts())\n",
    "print(data['Exited'].value_counts() / data.shape[0] * 100)"
   ]
  },
  {
   "cell_type": "markdown",
   "metadata": {},
   "source": [
    "**Kesimpulan**\n",
    "\n",
    "Terdapat 14 kolom yang berbeda dan satu kolom sebagai target. Target yang digunakan adalah kolom `Exited`. Data yang ada ternyata terdapat missing value, missing value tersebut berada pada kolom `Tenure` dengan persentase missing value yaitu kurang lebih 9%. Untuk persentase yang ada pada kolom target memiliki nilai yang cukup besar perbedaannya atau dengan kata lain pada kolom target terdapat ketidak seimbangan data. Untuk nilai 0 (belum berhenti) berkisar hingga 79.6% sedangkan nilai 1 (telah berhenti) berkisar 20.4%.\n",
    "\n",
    "Dari segi data yang ada, kemungkinan ada beberapa kolom yang tidak akan digunakan selama proses analisis. Kolom tersebut seperti `RowNumber`, `CustomerId`, `Surname` dsb."
   ]
  },
  {
   "cell_type": "markdown",
   "metadata": {},
   "source": [
    "## Tahap 3. Preparing Data"
   ]
  },
  {
   "cell_type": "markdown",
   "metadata": {},
   "source": [
    "Dari hasil cheking data diatas, terdapat missing value yang berada pada kolom `Tenure` dengan persentase missing value kurang lebih 9%. Temuan lain adalah ada beberapa kolom yang kemungkinan tidak akan digunakan selama proses analisis ini. Untuk kolom yang tidak digunakan alangkah baiknya dihilangkan saja agar tidak menggagu proses analisis. Namun sebelum itu, mari atasi dulu missing value pada kolom `Tenure`."
   ]
  },
  {
   "cell_type": "code",
   "execution_count": 9,
   "metadata": {},
   "outputs": [
    {
     "name": "stdout",
     "output_type": "stream",
     "text": [
      "count    9091.000000\n",
      "mean        4.997690\n",
      "std         2.894723\n",
      "min         0.000000\n",
      "25%         2.000000\n",
      "50%         5.000000\n",
      "75%         7.000000\n",
      "max        10.000000\n",
      "Name: Tenure, dtype: float64\n",
      "__________________________\n",
      "Data yang sering muncul\n",
      "5.0\n"
     ]
    }
   ],
   "source": [
    "print(data['Tenure'].describe())\n",
    "print('__________________________')\n",
    "print('Data yang sering muncul')\n",
    "print(data['Tenure'].median())"
   ]
  },
  {
   "cell_type": "markdown",
   "metadata": {},
   "source": [
    "Dari data yang ditampilkan diatas, mean pada kolom ini berada di 4.9, untuk median berada di 5.0 dan untuk nilai yang sering muncul berada di 1.0.\n",
    "\n",
    "Untuk mengatasi missing value pada kolom ini, mari gunakan median dari kolom tersebut karena dilihat dari persentase missing value hanya 9% dan bila menggunakan nilai 5.0 atau nilai mediannya, sepertinya akan jauh lebih aman."
   ]
  },
  {
   "cell_type": "code",
   "execution_count": 10,
   "metadata": {},
   "outputs": [],
   "source": [
    "for col in ['Tenure']:\n",
    "    data[col].fillna(data[col].median(), inplace=True)"
   ]
  },
  {
   "cell_type": "code",
   "execution_count": 11,
   "metadata": {},
   "outputs": [
    {
     "name": "stdout",
     "output_type": "stream",
     "text": [
      "RowNumber          0\n",
      "CustomerId         0\n",
      "Surname            0\n",
      "CreditScore        0\n",
      "Geography          0\n",
      "Gender             0\n",
      "Age                0\n",
      "Tenure             0\n",
      "Balance            0\n",
      "NumOfProducts      0\n",
      "HasCrCard          0\n",
      "IsActiveMember     0\n",
      "EstimatedSalary    0\n",
      "Exited             0\n",
      "dtype: int64\n",
      "Percent Missing Value pada kolom Tenure:\n",
      "0.0\n"
     ]
    }
   ],
   "source": [
    "print(data.isna().sum())\n",
    "print('Percent Missing Value pada kolom Tenure:')\n",
    "print(data['Tenure'].isna().sum() / len(data) * 100)"
   ]
  },
  {
   "cell_type": "markdown",
   "metadata": {},
   "source": [
    "Missing value pada kolom `Tenure` sudah berhasil diisi dengan median. Selanjutnya mari lakukan drop kolom-kolom yang mungkin tidak digunakan pada analisis ini."
   ]
  },
  {
   "cell_type": "code",
   "execution_count": 12,
   "metadata": {},
   "outputs": [
    {
     "data": {
      "text/html": [
       "<div>\n",
       "<style scoped>\n",
       "    .dataframe tbody tr th:only-of-type {\n",
       "        vertical-align: middle;\n",
       "    }\n",
       "\n",
       "    .dataframe tbody tr th {\n",
       "        vertical-align: top;\n",
       "    }\n",
       "\n",
       "    .dataframe thead th {\n",
       "        text-align: right;\n",
       "    }\n",
       "</style>\n",
       "<table border=\"1\" class=\"dataframe\">\n",
       "  <thead>\n",
       "    <tr style=\"text-align: right;\">\n",
       "      <th></th>\n",
       "      <th>CreditScore</th>\n",
       "      <th>Geography</th>\n",
       "      <th>Gender</th>\n",
       "      <th>Age</th>\n",
       "      <th>Tenure</th>\n",
       "      <th>Balance</th>\n",
       "      <th>NumOfProducts</th>\n",
       "      <th>HasCrCard</th>\n",
       "      <th>IsActiveMember</th>\n",
       "      <th>EstimatedSalary</th>\n",
       "      <th>Exited</th>\n",
       "    </tr>\n",
       "  </thead>\n",
       "  <tbody>\n",
       "    <tr>\n",
       "      <th>0</th>\n",
       "      <td>619</td>\n",
       "      <td>France</td>\n",
       "      <td>Female</td>\n",
       "      <td>42</td>\n",
       "      <td>2.0</td>\n",
       "      <td>0.00</td>\n",
       "      <td>1</td>\n",
       "      <td>1</td>\n",
       "      <td>1</td>\n",
       "      <td>101348.88</td>\n",
       "      <td>1</td>\n",
       "    </tr>\n",
       "    <tr>\n",
       "      <th>1</th>\n",
       "      <td>608</td>\n",
       "      <td>Spain</td>\n",
       "      <td>Female</td>\n",
       "      <td>41</td>\n",
       "      <td>1.0</td>\n",
       "      <td>83807.86</td>\n",
       "      <td>1</td>\n",
       "      <td>0</td>\n",
       "      <td>1</td>\n",
       "      <td>112542.58</td>\n",
       "      <td>0</td>\n",
       "    </tr>\n",
       "    <tr>\n",
       "      <th>2</th>\n",
       "      <td>502</td>\n",
       "      <td>France</td>\n",
       "      <td>Female</td>\n",
       "      <td>42</td>\n",
       "      <td>8.0</td>\n",
       "      <td>159660.80</td>\n",
       "      <td>3</td>\n",
       "      <td>1</td>\n",
       "      <td>0</td>\n",
       "      <td>113931.57</td>\n",
       "      <td>1</td>\n",
       "    </tr>\n",
       "    <tr>\n",
       "      <th>3</th>\n",
       "      <td>699</td>\n",
       "      <td>France</td>\n",
       "      <td>Female</td>\n",
       "      <td>39</td>\n",
       "      <td>1.0</td>\n",
       "      <td>0.00</td>\n",
       "      <td>2</td>\n",
       "      <td>0</td>\n",
       "      <td>0</td>\n",
       "      <td>93826.63</td>\n",
       "      <td>0</td>\n",
       "    </tr>\n",
       "    <tr>\n",
       "      <th>4</th>\n",
       "      <td>850</td>\n",
       "      <td>Spain</td>\n",
       "      <td>Female</td>\n",
       "      <td>43</td>\n",
       "      <td>2.0</td>\n",
       "      <td>125510.82</td>\n",
       "      <td>1</td>\n",
       "      <td>1</td>\n",
       "      <td>1</td>\n",
       "      <td>79084.10</td>\n",
       "      <td>0</td>\n",
       "    </tr>\n",
       "  </tbody>\n",
       "</table>\n",
       "</div>"
      ],
      "text/plain": [
       "   CreditScore Geography  Gender  Age  Tenure    Balance  NumOfProducts  \\\n",
       "0          619    France  Female   42     2.0       0.00              1   \n",
       "1          608     Spain  Female   41     1.0   83807.86              1   \n",
       "2          502    France  Female   42     8.0  159660.80              3   \n",
       "3          699    France  Female   39     1.0       0.00              2   \n",
       "4          850     Spain  Female   43     2.0  125510.82              1   \n",
       "\n",
       "   HasCrCard  IsActiveMember  EstimatedSalary  Exited  \n",
       "0          1               1        101348.88       1  \n",
       "1          0               1        112542.58       0  \n",
       "2          1               0        113931.57       1  \n",
       "3          0               0         93826.63       0  \n",
       "4          1               1         79084.10       0  "
      ]
     },
     "execution_count": 12,
     "metadata": {},
     "output_type": "execute_result"
    }
   ],
   "source": [
    "data1 = data\n",
    "data1 = data1.drop(['RowNumber', 'CustomerId', 'Surname'], axis=1)\n",
    "data1.head()"
   ]
  },
  {
   "cell_type": "code",
   "execution_count": 13,
   "metadata": {},
   "outputs": [
    {
     "data": {
      "text/plain": [
       "array(['France', 'Spain', 'Germany'], dtype=object)"
      ]
     },
     "execution_count": 13,
     "metadata": {},
     "output_type": "execute_result"
    }
   ],
   "source": [
    "data1['Geography'].unique()"
   ]
  },
  {
   "cell_type": "code",
   "execution_count": 14,
   "metadata": {},
   "outputs": [
    {
     "data": {
      "text/plain": [
       "array(['Female', 'Male'], dtype=object)"
      ]
     },
     "execution_count": 14,
     "metadata": {},
     "output_type": "execute_result"
    }
   ],
   "source": [
    "data1['Gender'].unique()"
   ]
  },
  {
   "cell_type": "markdown",
   "metadata": {},
   "source": [
    "Kolom yang kemungkinan tidak akang digunakan pada analisis ini sudah berhasil di drop. Pada kolom `Geography` dan kolom `Gender`, 2 kolom ini dapat diperjelas dengan menggunakan one hot endcoding agar memudahkan langkah selanjutnya."
   ]
  },
  {
   "cell_type": "code",
   "execution_count": 15,
   "metadata": {},
   "outputs": [
    {
     "data": {
      "text/html": [
       "<div>\n",
       "<style scoped>\n",
       "    .dataframe tbody tr th:only-of-type {\n",
       "        vertical-align: middle;\n",
       "    }\n",
       "\n",
       "    .dataframe tbody tr th {\n",
       "        vertical-align: top;\n",
       "    }\n",
       "\n",
       "    .dataframe thead th {\n",
       "        text-align: right;\n",
       "    }\n",
       "</style>\n",
       "<table border=\"1\" class=\"dataframe\">\n",
       "  <thead>\n",
       "    <tr style=\"text-align: right;\">\n",
       "      <th></th>\n",
       "      <th>CreditScore</th>\n",
       "      <th>Age</th>\n",
       "      <th>Tenure</th>\n",
       "      <th>Balance</th>\n",
       "      <th>NumOfProducts</th>\n",
       "      <th>HasCrCard</th>\n",
       "      <th>IsActiveMember</th>\n",
       "      <th>EstimatedSalary</th>\n",
       "      <th>Exited</th>\n",
       "      <th>Geography_Germany</th>\n",
       "      <th>Geography_Spain</th>\n",
       "      <th>Gender_Male</th>\n",
       "    </tr>\n",
       "  </thead>\n",
       "  <tbody>\n",
       "    <tr>\n",
       "      <th>0</th>\n",
       "      <td>619</td>\n",
       "      <td>42</td>\n",
       "      <td>2.0</td>\n",
       "      <td>0.00</td>\n",
       "      <td>1</td>\n",
       "      <td>1</td>\n",
       "      <td>1</td>\n",
       "      <td>101348.88</td>\n",
       "      <td>1</td>\n",
       "      <td>0</td>\n",
       "      <td>0</td>\n",
       "      <td>0</td>\n",
       "    </tr>\n",
       "    <tr>\n",
       "      <th>1</th>\n",
       "      <td>608</td>\n",
       "      <td>41</td>\n",
       "      <td>1.0</td>\n",
       "      <td>83807.86</td>\n",
       "      <td>1</td>\n",
       "      <td>0</td>\n",
       "      <td>1</td>\n",
       "      <td>112542.58</td>\n",
       "      <td>0</td>\n",
       "      <td>0</td>\n",
       "      <td>1</td>\n",
       "      <td>0</td>\n",
       "    </tr>\n",
       "    <tr>\n",
       "      <th>2</th>\n",
       "      <td>502</td>\n",
       "      <td>42</td>\n",
       "      <td>8.0</td>\n",
       "      <td>159660.80</td>\n",
       "      <td>3</td>\n",
       "      <td>1</td>\n",
       "      <td>0</td>\n",
       "      <td>113931.57</td>\n",
       "      <td>1</td>\n",
       "      <td>0</td>\n",
       "      <td>0</td>\n",
       "      <td>0</td>\n",
       "    </tr>\n",
       "    <tr>\n",
       "      <th>3</th>\n",
       "      <td>699</td>\n",
       "      <td>39</td>\n",
       "      <td>1.0</td>\n",
       "      <td>0.00</td>\n",
       "      <td>2</td>\n",
       "      <td>0</td>\n",
       "      <td>0</td>\n",
       "      <td>93826.63</td>\n",
       "      <td>0</td>\n",
       "      <td>0</td>\n",
       "      <td>0</td>\n",
       "      <td>0</td>\n",
       "    </tr>\n",
       "    <tr>\n",
       "      <th>4</th>\n",
       "      <td>850</td>\n",
       "      <td>43</td>\n",
       "      <td>2.0</td>\n",
       "      <td>125510.82</td>\n",
       "      <td>1</td>\n",
       "      <td>1</td>\n",
       "      <td>1</td>\n",
       "      <td>79084.10</td>\n",
       "      <td>0</td>\n",
       "      <td>0</td>\n",
       "      <td>1</td>\n",
       "      <td>0</td>\n",
       "    </tr>\n",
       "  </tbody>\n",
       "</table>\n",
       "</div>"
      ],
      "text/plain": [
       "   CreditScore  Age  Tenure    Balance  NumOfProducts  HasCrCard  \\\n",
       "0          619   42     2.0       0.00              1          1   \n",
       "1          608   41     1.0   83807.86              1          0   \n",
       "2          502   42     8.0  159660.80              3          1   \n",
       "3          699   39     1.0       0.00              2          0   \n",
       "4          850   43     2.0  125510.82              1          1   \n",
       "\n",
       "   IsActiveMember  EstimatedSalary  Exited  Geography_Germany  \\\n",
       "0               1        101348.88       1                  0   \n",
       "1               1        112542.58       0                  0   \n",
       "2               0        113931.57       1                  0   \n",
       "3               0         93826.63       0                  0   \n",
       "4               1         79084.10       0                  0   \n",
       "\n",
       "   Geography_Spain  Gender_Male  \n",
       "0                0            0  \n",
       "1                1            0  \n",
       "2                0            0  \n",
       "3                0            0  \n",
       "4                1            0  "
      ]
     },
     "execution_count": 15,
     "metadata": {},
     "output_type": "execute_result"
    }
   ],
   "source": [
    "# one hot endcoding pada kolom kategorikal\n",
    "data_ohe = pd.get_dummies(data1, columns=['Geography', 'Gender'], drop_first=True)\n",
    "data_ohe.head()"
   ]
  },
  {
   "cell_type": "markdown",
   "metadata": {},
   "source": [
    "data_ohe menyimpan data serta kolom kolom categorikal yang sudah di one hot endcoder."
   ]
  },
  {
   "cell_type": "code",
   "execution_count": 16,
   "metadata": {},
   "outputs": [
    {
     "data": {
      "text/html": [
       "<div>\n",
       "<style scoped>\n",
       "    .dataframe tbody tr th:only-of-type {\n",
       "        vertical-align: middle;\n",
       "    }\n",
       "\n",
       "    .dataframe tbody tr th {\n",
       "        vertical-align: top;\n",
       "    }\n",
       "\n",
       "    .dataframe thead th {\n",
       "        text-align: right;\n",
       "    }\n",
       "</style>\n",
       "<table border=\"1\" class=\"dataframe\">\n",
       "  <thead>\n",
       "    <tr style=\"text-align: right;\">\n",
       "      <th></th>\n",
       "      <th>CreditScore</th>\n",
       "      <th>Age</th>\n",
       "      <th>Tenure</th>\n",
       "      <th>Balance</th>\n",
       "      <th>EstimatedSalary</th>\n",
       "    </tr>\n",
       "  </thead>\n",
       "  <tbody>\n",
       "    <tr>\n",
       "      <th>0</th>\n",
       "      <td>-0.326221</td>\n",
       "      <td>0.293517</td>\n",
       "      <td>-1.086246</td>\n",
       "      <td>-1.225848</td>\n",
       "      <td>0.021886</td>\n",
       "    </tr>\n",
       "    <tr>\n",
       "      <th>1</th>\n",
       "      <td>-0.440036</td>\n",
       "      <td>0.198164</td>\n",
       "      <td>-1.448581</td>\n",
       "      <td>0.117350</td>\n",
       "      <td>0.216534</td>\n",
       "    </tr>\n",
       "    <tr>\n",
       "      <th>2</th>\n",
       "      <td>-1.536794</td>\n",
       "      <td>0.293517</td>\n",
       "      <td>1.087768</td>\n",
       "      <td>1.333053</td>\n",
       "      <td>0.240687</td>\n",
       "    </tr>\n",
       "    <tr>\n",
       "      <th>3</th>\n",
       "      <td>0.501521</td>\n",
       "      <td>0.007457</td>\n",
       "      <td>-1.448581</td>\n",
       "      <td>-1.225848</td>\n",
       "      <td>-0.108918</td>\n",
       "    </tr>\n",
       "    <tr>\n",
       "      <th>4</th>\n",
       "      <td>2.063884</td>\n",
       "      <td>0.388871</td>\n",
       "      <td>-1.086246</td>\n",
       "      <td>0.785728</td>\n",
       "      <td>-0.365276</td>\n",
       "    </tr>\n",
       "    <tr>\n",
       "      <th>...</th>\n",
       "      <td>...</td>\n",
       "      <td>...</td>\n",
       "      <td>...</td>\n",
       "      <td>...</td>\n",
       "      <td>...</td>\n",
       "    </tr>\n",
       "    <tr>\n",
       "      <th>9995</th>\n",
       "      <td>1.246488</td>\n",
       "      <td>0.007457</td>\n",
       "      <td>0.000761</td>\n",
       "      <td>-1.225848</td>\n",
       "      <td>-0.066419</td>\n",
       "    </tr>\n",
       "    <tr>\n",
       "      <th>9996</th>\n",
       "      <td>-1.391939</td>\n",
       "      <td>-0.373958</td>\n",
       "      <td>1.812439</td>\n",
       "      <td>-0.306379</td>\n",
       "      <td>0.027988</td>\n",
       "    </tr>\n",
       "    <tr>\n",
       "      <th>9997</th>\n",
       "      <td>0.604988</td>\n",
       "      <td>-0.278604</td>\n",
       "      <td>0.725432</td>\n",
       "      <td>-1.225848</td>\n",
       "      <td>-1.008643</td>\n",
       "    </tr>\n",
       "    <tr>\n",
       "      <th>9998</th>\n",
       "      <td>1.256835</td>\n",
       "      <td>0.293517</td>\n",
       "      <td>-0.723910</td>\n",
       "      <td>-0.022608</td>\n",
       "      <td>-0.125231</td>\n",
       "    </tr>\n",
       "    <tr>\n",
       "      <th>9999</th>\n",
       "      <td>1.463771</td>\n",
       "      <td>-1.041433</td>\n",
       "      <td>0.000761</td>\n",
       "      <td>0.859965</td>\n",
       "      <td>-1.076370</td>\n",
       "    </tr>\n",
       "  </tbody>\n",
       "</table>\n",
       "<p>10000 rows × 5 columns</p>\n",
       "</div>"
      ],
      "text/plain": [
       "      CreditScore       Age    Tenure   Balance  EstimatedSalary\n",
       "0       -0.326221  0.293517 -1.086246 -1.225848         0.021886\n",
       "1       -0.440036  0.198164 -1.448581  0.117350         0.216534\n",
       "2       -1.536794  0.293517  1.087768  1.333053         0.240687\n",
       "3        0.501521  0.007457 -1.448581 -1.225848        -0.108918\n",
       "4        2.063884  0.388871 -1.086246  0.785728        -0.365276\n",
       "...           ...       ...       ...       ...              ...\n",
       "9995     1.246488  0.007457  0.000761 -1.225848        -0.066419\n",
       "9996    -1.391939 -0.373958  1.812439 -0.306379         0.027988\n",
       "9997     0.604988 -0.278604  0.725432 -1.225848        -1.008643\n",
       "9998     1.256835  0.293517 -0.723910 -0.022608        -0.125231\n",
       "9999     1.463771 -1.041433  0.000761  0.859965        -1.076370\n",
       "\n",
       "[10000 rows x 5 columns]"
      ]
     },
     "execution_count": 16,
     "metadata": {},
     "output_type": "execute_result"
    }
   ],
   "source": [
    "numeric = ['CreditScore', 'Age', 'Tenure','Balance','EstimatedSalary']\n",
    "scaler = StandardScaler()\n",
    "data_ohe[numeric] = scaler.fit_transform(data_ohe[numeric])\n",
    "data_ohe[numeric]"
   ]
  },
  {
   "cell_type": "markdown",
   "metadata": {},
   "source": [
    "Pada data_ohe menyimpan data1 yang kolom kategorikal nya sudah di label kan dengan 0 dan 1. Langkah berikutnya mari periksa keseimbangan dari data yang ada tersebut. "
   ]
  },
  {
   "cell_type": "markdown",
   "metadata": {},
   "source": [
    "## Tahap 4. Periksa Keseimbangan kelas"
   ]
  },
  {
   "cell_type": "markdown",
   "metadata": {},
   "source": [
    "Dari data yang ada, mari bandingkan keseimbangan kelas yang ada pada target. Kolom yang akan digunakan adalah kolom `Exited`."
   ]
  },
  {
   "cell_type": "code",
   "execution_count": 17,
   "metadata": {},
   "outputs": [],
   "source": [
    "class_distribution = data_ohe['Exited'].value_counts() / data.shape[0] * 100"
   ]
  },
  {
   "cell_type": "code",
   "execution_count": 18,
   "metadata": {},
   "outputs": [
    {
     "data": {
      "image/png": "[encoded data removed]",
      "text/plain": [
       "<Figure size 720x432 with 1 Axes>"
      ]
     },
     "metadata": {
      "needs_background": "light"
     },
     "output_type": "display_data"
    },
    {
     "name": "stdout",
     "output_type": "stream",
     "text": [
      "Persentase Kelas Distribusi `Exited`:\n",
      "0    79.63\n",
      "1    20.37\n",
      "Name: Exited, dtype: float64\n"
     ]
    }
   ],
   "source": [
    "plt.figure(figsize=(10,6))\n",
    "sns.countplot(x='Exited', data=data_ohe)\n",
    "plt.title('Distribusi Kelas `Exited`')\n",
    "plt.xlabel('1 - jika ya; 0 - jika tidak')\n",
    "plt.ylabel('Jumlah')\n",
    "plt.show()\n",
    "print('Persentase Kelas Distribusi `Exited`:')\n",
    "print(class_distribution)"
   ]
  },
  {
   "cell_type": "markdown",
   "metadata": {},
   "source": [
    "Dari data yang ditampilkan diatas, terlihat bahwa distribusi kelas pada kolom target memiliki ketidakseimbangan kelas. Persentase kelas 0 berada pada 79% dan kelas 1 berapa pada 20%. Ketidakseimbangan nya sangat jelas terlihat."
   ]
  },
  {
   "cell_type": "markdown",
   "metadata": {},
   "source": [
    "## Tahap 5. Pemisahan Data"
   ]
  },
  {
   "cell_type": "markdown",
   "metadata": {},
   "source": [
    "Sebelum melakukan pemodelan dan memilih model mana yang paling baik, data yang ada akan dipisahkan terlebih dahulu ke dalam 3 bagian data yaitu:\n",
    "\n",
    "- training set\n",
    "- validation set\n",
    "- test set\n",
    "\n",
    "Dengan mengunakan train_test_split data dapat di pisahkan menjadi 3 bagian dengan porsi terbesar berada pada training set."
   ]
  },
  {
   "cell_type": "code",
   "execution_count": 19,
   "metadata": {},
   "outputs": [
    {
     "data": {
      "text/plain": [
       "((8100, 12), (900, 12), (1000, 12))"
      ]
     },
     "execution_count": 19,
     "metadata": {},
     "output_type": "execute_result"
    }
   ],
   "source": [
    "train_valid, test = train_test_split(data_ohe, test_size=0.1) \n",
    "train, valid = train_test_split(train_valid, test_size=0.1) \n",
    "\n",
    "train.shape, valid.shape, test.shape"
   ]
  },
  {
   "cell_type": "markdown",
   "metadata": {},
   "source": [
    "Data telah dipisahkan dengan kedalam 3 bagian yaitu train, valid, dan test. Dari ke 3 bagian data tersebut pisahkan fitur dan target. Sesuai dengan keterangan sebelumnya, kolom yang menjadi target adalah kolom `Exited`."
   ]
  },
  {
   "cell_type": "code",
   "execution_count": 20,
   "metadata": {},
   "outputs": [],
   "source": [
    "# training set, validation set, dan test set.\n",
    "\n",
    "features_train = train.drop(['Exited'], axis=1)\n",
    "target_train = train['Exited']\n",
    "\n",
    "features_valid = valid.drop(['Exited'], axis=1)\n",
    "target_valid = valid['Exited']\n",
    "\n",
    "features_test = test.drop(['Exited'], axis=1)\n",
    "target_test = test['Exited']"
   ]
  },
  {
   "cell_type": "code",
   "execution_count": 21,
   "metadata": {},
   "outputs": [
    {
     "name": "stdout",
     "output_type": "stream",
     "text": [
      "(8100, 11) (8100,)\n",
      "(900, 11) (900,)\n",
      "(1000, 11) (1000,)\n"
     ]
    }
   ],
   "source": [
    "print(features_train.shape, target_train.shape)\n",
    "print(features_valid.shape, target_valid.shape)\n",
    "print(features_test.shape, target_test.shape)"
   ]
  },
  {
   "cell_type": "markdown",
   "metadata": {},
   "source": [
    "**Kesimpulan**\n",
    "\n",
    "Ada beberapa catatan dari langkah yang telah dilakukan diatas, diantaranya:\n",
    "1. - features_train menyimpan fitur untuk training set.\n",
    "   - target_train menyimpan target untuk training set.\n",
    "2. - features_valid menyimpan fitur untuk validation set.\n",
    "   - target_valid menyimpan target untuk validation set.\n",
    "3. - features_test menyimpan fitur untuk test set.\n",
    "   - target_test menyimpan target untuk test set."
   ]
  },
  {
   "cell_type": "markdown",
   "metadata": {},
   "source": [
    "## Tahap 6. Pelatihan Model"
   ]
  },
  {
   "cell_type": "markdown",
   "metadata": {},
   "source": [
    "Pada tahap ini pelatihan model akan menggunakan beberapa model agar dapat dibandingkan model mana yang memiliki nilai terbaik.\n",
    "Model yang akan digunakan pada penelitian kali ini yaitu:\n",
    "\n",
    "- Logistic Regression.\n",
    "- Decision Tree Classifier.\n",
    "- Random Forest Classifier.\n"
   ]
  },
  {
   "cell_type": "markdown",
   "metadata": {},
   "source": [
    "Model pertama yang akan dibuat adalah model dengan menggunakan Logistic Regression."
   ]
  },
  {
   "cell_type": "code",
   "execution_count": 22,
   "metadata": {},
   "outputs": [
    {
     "name": "stdout",
     "output_type": "stream",
     "text": [
      "Penalty: l1\n",
      "F1: 0.31851851851851853\n",
      "ROC: 0.750827361938473\n",
      "__________________________\n",
      "Penalty: l2\n",
      "F1: 0.31851851851851853\n",
      "ROC: 0.7507482229704452\n",
      "__________________________\n"
     ]
    }
   ],
   "source": [
    "# Model Logistic Regression\n",
    "list_penalty = ['l1', 'l2']\n",
    "for penalty in list_penalty:\n",
    "    model_logreg = LogisticRegression(random_state=2023, penalty=penalty, solver='liblinear')\n",
    "    model_logreg.fit(features_train, target_train)\n",
    "\n",
    "    predicted_model = model_logreg.predict(features_valid)\n",
    "    probabilities_valid = model_logreg.predict_proba(features_valid)[:, 1]\n",
    "\n",
    "    print('Penalty:', penalty)\n",
    "    print('F1:', f1_score(target_valid, predicted_model))\n",
    "    print('ROC:', roc_auc_score(target_valid, probabilities_valid))\n",
    "    print('__________________________')"
   ]
  },
  {
   "cell_type": "markdown",
   "metadata": {},
   "source": [
    "Model diatas menggunakan Logistic Regression dan parameter yang diuji adalah penaltynya. Dari hasil diatas terlihat bahwa nilai F1 dan AUC-ROC tertinggi berada pada penalty l2. "
   ]
  },
  {
   "cell_type": "code",
   "execution_count": 23,
   "metadata": {},
   "outputs": [
    {
     "name": "stdout",
     "output_type": "stream",
     "text": [
      "max_depth: 1\n",
      "F1: 0.0\n",
      "ROC: 0.6721056721056722\n",
      "______________________________\n",
      "max_depth: 2\n",
      "F1: 0.5194029850746269\n",
      "ROC: 0.732233301677746\n",
      "______________________________\n",
      "max_depth: 4\n",
      "F1: 0.5255972696245733\n",
      "ROC: 0.8083973639529196\n",
      "______________________________\n",
      "max_depth: 6\n",
      "F1: 0.5496688741721855\n",
      "ROC: 0.8487114737114737\n",
      "______________________________\n",
      "max_depth: 8\n",
      "F1: 0.5263157894736843\n",
      "ROC: 0.825358283691617\n",
      "______________________________\n"
     ]
    }
   ],
   "source": [
    "# Model Decision Tree Classifier\n",
    "list_max_depth = [1,2,4,6,8]\n",
    "\n",
    "for depth in list_max_depth:\n",
    "    model_Dtree = DecisionTreeClassifier(random_state=2023, max_depth=depth)\n",
    "    model_Dtree.fit(features_train, target_train)\n",
    "    \n",
    "    predicted_model = model_Dtree.predict(features_valid)\n",
    "    probabilities_valid = model_Dtree.predict_proba(features_valid)[:, 1]\n",
    "\n",
    "    print('max_depth:', depth)\n",
    "    print('F1:', f1_score(target_valid, predicted_model))\n",
    "    print('ROC:', roc_auc_score(target_valid, probabilities_valid))\n",
    "    print('______________________________')"
   ]
  },
  {
   "cell_type": "markdown",
   "metadata": {},
   "source": [
    "Model diatas menggunakan Desicion Tree dan parameter yang diuji adalah nilai dari max depth. Dari hasil diatas terlihat bahwa nilai F1 dan AUC-ROC tertinggi berada pada max depth 6."
   ]
  },
  {
   "cell_type": "code",
   "execution_count": 24,
   "metadata": {},
   "outputs": [
    {
     "name": "stdout",
     "output_type": "stream",
     "text": [
      "n_estimators: 10\n",
      "F1: 0.525974025974026\n",
      "AUC-ROC: 0.8197142363809031\n",
      "_____________________________\n",
      "n_estimators: 20\n",
      "F1: 0.5333333333333333\n",
      "AUC-ROC: 0.8358693775360442\n",
      "_____________________________\n",
      "n_estimators: 30\n",
      "F1: 0.5436893203883495\n",
      "AUC-ROC: 0.8417436472992028\n",
      "_____________________________\n",
      "n_estimators: 40\n",
      "F1: 0.5372168284789643\n",
      "AUC-ROC: 0.841455869233647\n",
      "_____________________________\n",
      "n_estimators: 50\n",
      "F1: 0.5311475409836066\n",
      "AUC-ROC: 0.8424738841405508\n",
      "_____________________________\n",
      "n_estimators: 60\n",
      "F1: 0.5245901639344261\n",
      "AUC-ROC: 0.8428515928515927\n",
      "_____________________________\n",
      "n_estimators: 70\n",
      "F1: 0.5407166123778501\n",
      "AUC-ROC: 0.8438012604679272\n",
      "_____________________________\n",
      "n_estimators: 80\n",
      "F1: 0.5214521452145214\n",
      "AUC-ROC: 0.8463444991222769\n",
      "_____________________________\n",
      "n_estimators: 90\n",
      "F1: 0.5377049180327869\n",
      "AUC-ROC: 0.8452509424731648\n",
      "_____________________________\n",
      "n_estimators: 100\n",
      "F1: 0.5394736842105263\n",
      "AUC-ROC: 0.8448876226654004\n",
      "_____________________________\n"
     ]
    }
   ],
   "source": [
    "# Model Random Forest Classifier\n",
    "range_estimators = range(10, 101, 10)\n",
    "\n",
    "for esti in range_estimators:\n",
    "    model_Rforest = RandomForestClassifier(random_state=2023, n_estimators=esti)\n",
    "    model_Rforest.fit(features_train, target_train)\n",
    "\n",
    "    predicted_model = model_Rforest.predict(features_valid)\n",
    "    probabilities_valid = model_Rforest.predict_proba(features_valid)[:, 1]\n",
    "\n",
    "    print('n_estimators:', esti)\n",
    "    print('F1:', f1_score(target_valid, predicted_model))\n",
    "    print('AUC-ROC:', roc_auc_score(target_valid, probabilities_valid))\n",
    "    print('_____________________________')"
   ]
  },
  {
   "cell_type": "markdown",
   "metadata": {},
   "source": [
    "Model diatas menggunakan Random Forest dan parameter yang diuji adalah nilai estimators nya. Dari hasil diatas terlihat bahwa nilai F1 dan AUC-ROC tertinggi berada pada estimators 90."
   ]
  },
  {
   "cell_type": "markdown",
   "metadata": {},
   "source": [
    "## Tahap 7. Mengatasi Keseimbangan Kelas"
   ]
  },
  {
   "cell_type": "markdown",
   "metadata": {},
   "source": [
    "### Upsampling"
   ]
  },
  {
   "cell_type": "markdown",
   "metadata": {},
   "source": [
    "Mengatasi keseimbangan data yang pertama yaitu menggunakan upsampling data. Untuk mempermudah langkah ini mari buat fungsi"
   ]
  },
  {
   "cell_type": "code",
   "execution_count": 25,
   "metadata": {},
   "outputs": [],
   "source": [
    "def upsample(features, target, repeat):\n",
    "    features_zeros = features[target == 0]\n",
    "    features_ones = features[target == 1]\n",
    "    target_zeros = target[target == 0]\n",
    "    target_ones = target[target == 1]\n",
    "\n",
    "    features_upsampled = pd.concat([features_zeros] + [features_ones] * repeat)\n",
    "    target_upsampled = pd.concat([target_zeros] + [target_ones] * repeat)\n",
    "\n",
    "    features_upsampled, target_upsampled = shuffle(\n",
    "        features_upsampled, target_upsampled, random_state=2023\n",
    "    )\n",
    "\n",
    "    return features_upsampled, target_upsampled"
   ]
  },
  {
   "cell_type": "code",
   "execution_count": 26,
   "metadata": {},
   "outputs": [],
   "source": [
    "features_upsampled, target_upsampled = upsample(features_train, target_train, 3)"
   ]
  },
  {
   "cell_type": "code",
   "execution_count": 27,
   "metadata": {},
   "outputs": [
    {
     "data": {
      "text/plain": [
       "0    6479\n",
       "1    1621\n",
       "Name: Exited, dtype: int64"
      ]
     },
     "execution_count": 27,
     "metadata": {},
     "output_type": "execute_result"
    }
   ],
   "source": [
    "target_train.value_counts()"
   ]
  },
  {
   "cell_type": "code",
   "execution_count": 28,
   "metadata": {},
   "outputs": [
    {
     "data": {
      "text/plain": [
       "0    6479\n",
       "1    4863\n",
       "Name: Exited, dtype: int64"
      ]
     },
     "execution_count": 28,
     "metadata": {},
     "output_type": "execute_result"
    }
   ],
   "source": [
    "target_upsampled.value_counts()"
   ]
  },
  {
   "cell_type": "markdown",
   "metadata": {},
   "source": [
    "Proses upsampling sudah berhasil dan disimpan di features_upsampled dan target_upsampled. Langkah selanjutnya mari masukan data yang telah di upsampling ke model-model yang telah dilatih."
   ]
  },
  {
   "cell_type": "code",
   "execution_count": 29,
   "metadata": {},
   "outputs": [
    {
     "name": "stdout",
     "output_type": "stream",
     "text": [
      "Penalty: l1\n",
      "F1: 0.49130434782608695\n",
      "ROC: 0.7523813634924745\n",
      "__________________________\n",
      "Penalty: l2\n",
      "F1: 0.49130434782608695\n",
      "ROC: 0.752366974589197\n",
      "__________________________\n"
     ]
    }
   ],
   "source": [
    "# Model Logistic Regression dengan data Upsampling\n",
    "list_penalty = ['l1', 'l2']\n",
    "for penalty in list_penalty:\n",
    "    model_logreg = LogisticRegression(random_state=2023, penalty=penalty, solver='liblinear')\n",
    "    model_logreg.fit(features_upsampled, target_upsampled)\n",
    "\n",
    "    predicted_model = model_logreg.predict(features_valid)\n",
    "    probabilities_valid = model_logreg.predict_proba(features_valid)[:, 1]\n",
    "\n",
    "    print('Penalty:', penalty)\n",
    "    print('F1:', f1_score(target_valid, predicted_model))\n",
    "    print('ROC:', roc_auc_score(target_valid, probabilities_valid))\n",
    "    print('__________________________')"
   ]
  },
  {
   "cell_type": "code",
   "execution_count": 30,
   "metadata": {},
   "outputs": [
    {
     "name": "stdout",
     "output_type": "stream",
     "text": [
      "max_depth: 1\n",
      "F1: 0.47484909456740443\n",
      "ROC: 0.6690624190624191\n",
      "______________________________\n",
      "max_depth: 2\n",
      "F1: 0.5078125\n",
      "ROC: 0.7292835765057988\n",
      "______________________________\n",
      "max_depth: 4\n",
      "F1: 0.5333333333333333\n",
      "ROC: 0.8023612190278857\n",
      "______________________________\n",
      "max_depth: 6\n",
      "F1: 0.596\n",
      "ROC: 0.8455459149903594\n",
      "______________________________\n",
      "max_depth: 8\n",
      "F1: 0.6124401913875599\n",
      "ROC: 0.833523986301764\n",
      "______________________________\n"
     ]
    }
   ],
   "source": [
    "# Model Decision Tree dengan data Upsampling\n",
    "list_max_depth = [1,2,4,6,8]\n",
    "\n",
    "for depth in list_max_depth:\n",
    "    model_Dtree = DecisionTreeClassifier(random_state=2023, max_depth=depth)\n",
    "    model_Dtree.fit(features_upsampled, target_upsampled)\n",
    "    \n",
    "    predicted_model = model_Dtree.predict(features_valid)\n",
    "    probabilities_valid = model_Dtree.predict_proba(features_valid)[:, 1]\n",
    "\n",
    "    print('max_depth:', depth)\n",
    "    print('F1:', f1_score(target_valid, predicted_model))\n",
    "    print('ROC:', roc_auc_score(target_valid, probabilities_valid))\n",
    "    print('______________________________')"
   ]
  },
  {
   "cell_type": "code",
   "execution_count": 31,
   "metadata": {},
   "outputs": [
    {
     "name": "stdout",
     "output_type": "stream",
     "text": [
      "n_estimators: 10\n",
      "F1: 0.5705705705705707\n",
      "AUC-ROC: 0.8003467725689948\n",
      "_____________________________\n",
      "n_estimators: 20\n",
      "F1: 0.584070796460177\n",
      "AUC-ROC: 0.823070448070448\n",
      "_____________________________\n",
      "n_estimators: 30\n",
      "F1: 0.5763688760806917\n",
      "AUC-ROC: 0.8333045555267777\n",
      "_____________________________\n",
      "n_estimators: 40\n",
      "F1: 0.5971014492753622\n",
      "AUC-ROC: 0.837225531669976\n",
      "_____________________________\n",
      "n_estimators: 50\n",
      "F1: 0.5862068965517241\n",
      "AUC-ROC: 0.8375312958646293\n",
      "_____________________________\n",
      "n_estimators: 60\n",
      "F1: 0.5821325648414986\n",
      "AUC-ROC: 0.8405457711013267\n",
      "_____________________________\n",
      "n_estimators: 70\n",
      "F1: 0.5797101449275363\n",
      "AUC-ROC: 0.842049411493856\n",
      "_____________________________\n",
      "n_estimators: 80\n",
      "F1: 0.5830903790087464\n",
      "AUC-ROC: 0.8435854269187603\n",
      "_____________________________\n",
      "n_estimators: 90\n",
      "F1: 0.5872093023255813\n",
      "AUC-ROC: 0.8435062879507326\n",
      "_____________________________\n",
      "n_estimators: 100\n",
      "F1: 0.5936599423631125\n",
      "AUC-ROC: 0.8462905407349852\n",
      "_____________________________\n"
     ]
    }
   ],
   "source": [
    "# Model Random Forest Classifier dengan data Upsampling\n",
    "range_estimators = range(10, 101, 10)\n",
    "\n",
    "for esti in range_estimators:\n",
    "    model_Rforest = RandomForestClassifier(random_state=2023, n_estimators=esti)\n",
    "    model_Rforest.fit(features_upsampled, target_upsampled)\n",
    "\n",
    "    predicted_model = model_Rforest.predict(features_valid)\n",
    "    probabilities_valid = model_Rforest.predict_proba(features_valid)[:, 1]\n",
    "\n",
    "    print('n_estimators:', esti)\n",
    "    print('F1:', f1_score(target_valid, predicted_model))\n",
    "    print('AUC-ROC:', roc_auc_score(target_valid, probabilities_valid))\n",
    "    print('_____________________________')"
   ]
  },
  {
   "cell_type": "markdown",
   "metadata": {},
   "source": [
    "**Kesimpulan**\n",
    "\n",
    "Ada beberapa kesimpulan dari proses mengatasi ketidakseimbangan kelas dengan menggunakan metode upsampling ini, yaitu:\n",
    "1. Upsampling menggunakan fitur dan target data.\n",
    "2. Metode upsampling menggunakan 3 model yang dilatih, model tersebut adalah: Logistic Regression, Decision Tree Classifier, Random Forest Classifier.\n",
    "3. Model dengan nilai F1 dan AUC-ROC terbaik adalah model Random Forest Classifier.\n",
    "3. Model Random Forest Classifier menggunakan paramter n_estimators dari 10-100 dengan kelipatan 10. Hasil dari nilai F1 dan AUC-ROC adalah model dengan n_estimators 60."
   ]
  },
  {
   "cell_type": "markdown",
   "metadata": {},
   "source": [
    "### Downsampling"
   ]
  },
  {
   "cell_type": "code",
   "execution_count": 32,
   "metadata": {},
   "outputs": [],
   "source": [
    "def downsample(features, target, fraction):\n",
    "    features_zeros = features[target == 0]\n",
    "    features_ones = features[target == 1]\n",
    "    target_zeros = target[target == 0]\n",
    "    target_ones = target[target == 1]\n",
    "\n",
    "    features_downsampled = pd.concat(\n",
    "        [features_zeros.sample(frac=fraction, random_state=2023)]\n",
    "        + [features_ones]\n",
    "    )\n",
    "    target_downsampled = pd.concat(\n",
    "        [target_zeros.sample(frac=fraction, random_state=2023)]\n",
    "        + [target_ones]\n",
    "    )\n",
    "\n",
    "    features_downsampled, target_downsampled = shuffle(\n",
    "        features_downsampled, target_downsampled, random_state=2023\n",
    "    )\n",
    "\n",
    "    return features_downsampled, target_downsampled"
   ]
  },
  {
   "cell_type": "code",
   "execution_count": 33,
   "metadata": {},
   "outputs": [],
   "source": [
    "features_downsampled, target_downsampled = downsample(features_train, target_train, 0.3)"
   ]
  },
  {
   "cell_type": "code",
   "execution_count": 34,
   "metadata": {},
   "outputs": [
    {
     "data": {
      "text/plain": [
       "0    6479\n",
       "1    1621\n",
       "Name: Exited, dtype: int64"
      ]
     },
     "execution_count": 34,
     "metadata": {},
     "output_type": "execute_result"
    }
   ],
   "source": [
    "target_train.value_counts()"
   ]
  },
  {
   "cell_type": "code",
   "execution_count": 35,
   "metadata": {},
   "outputs": [
    {
     "data": {
      "text/plain": [
       "0    1944\n",
       "1    1621\n",
       "Name: Exited, dtype: int64"
      ]
     },
     "execution_count": 35,
     "metadata": {},
     "output_type": "execute_result"
    }
   ],
   "source": [
    "target_downsampled.value_counts()"
   ]
  },
  {
   "cell_type": "markdown",
   "metadata": {},
   "source": [
    "Proses downsampling sudah berhasil dan disimpan di features_downsampled dan target_downsampled. Langkah selanjutnya mari masukan data yang telah di upsampling ke model-model yang telah dilatih."
   ]
  },
  {
   "cell_type": "code",
   "execution_count": 36,
   "metadata": {},
   "outputs": [
    {
     "name": "stdout",
     "output_type": "stream",
     "text": [
      "Penalty: l1\n",
      "F1: 0.496\n",
      "ROC: 0.7513453624564735\n",
      "__________________________\n",
      "Penalty: l2\n",
      "F1: 0.49900199600798406\n",
      "ROC: 0.7511295289073068\n",
      "__________________________\n"
     ]
    }
   ],
   "source": [
    "# Model Logistic Regression dengan data Downsampling\n",
    "list_penalty = ['l1', 'l2']\n",
    "for penalty in list_penalty:\n",
    "    model_logreg = LogisticRegression(random_state=2023, penalty=penalty, solver='liblinear')\n",
    "    model_logreg.fit(features_downsampled, target_downsampled)\n",
    "\n",
    "    predicted_model = model_logreg.predict(features_valid)\n",
    "    probabilities_valid = model_logreg.predict_proba(features_valid)[:, 1]\n",
    "\n",
    "    print('Penalty:', penalty)\n",
    "    print('F1:', f1_score(target_valid, predicted_model))\n",
    "    print('ROC:', roc_auc_score(target_valid, probabilities_valid))\n",
    "    print('__________________________')"
   ]
  },
  {
   "cell_type": "code",
   "execution_count": 37,
   "metadata": {},
   "outputs": [
    {
     "name": "stdout",
     "output_type": "stream",
     "text": [
      "max_depth: 1\n",
      "F1: 0.47484909456740443\n",
      "ROC: 0.6690624190624191\n",
      "______________________________\n",
      "max_depth: 2\n",
      "F1: 0.5078125\n",
      "ROC: 0.7292835765057988\n",
      "______________________________\n",
      "max_depth: 4\n",
      "F1: 0.5341130604288499\n",
      "ROC: 0.8033828311606089\n",
      "______________________________\n",
      "max_depth: 6\n",
      "F1: 0.5867768595041323\n",
      "ROC: 0.8408119658119657\n",
      "______________________________\n",
      "max_depth: 8\n",
      "F1: 0.5932584269662922\n",
      "ROC: 0.8331750553972778\n",
      "______________________________\n"
     ]
    }
   ],
   "source": [
    "# Model Decision Tree dengan data Downsampling\n",
    "list_max_depth = [1,2,4,6,8]\n",
    "\n",
    "for depth in list_max_depth:\n",
    "    model_Dtree = DecisionTreeClassifier(random_state=2023, max_depth=depth)\n",
    "    model_Dtree.fit(features_downsampled, target_downsampled)\n",
    "    \n",
    "    predicted_model = model_Dtree.predict(features_valid)\n",
    "    probabilities_valid = model_Dtree.predict_proba(features_valid)[:, 1]\n",
    "\n",
    "    print('max_depth:', depth)\n",
    "    print('F1:', f1_score(target_valid, predicted_model))\n",
    "    print('ROC:', roc_auc_score(target_valid, probabilities_valid))\n",
    "    print('______________________________')"
   ]
  },
  {
   "cell_type": "code",
   "execution_count": 38,
   "metadata": {},
   "outputs": [
    {
     "name": "stdout",
     "output_type": "stream",
     "text": [
      "n_estimators: 10\n",
      "F1: 0.6018099547511312\n",
      "AUC-ROC: 0.8353585714696825\n",
      "_____________________________\n",
      "n_estimators: 20\n",
      "F1: 0.6031042128603105\n",
      "AUC-ROC: 0.8487294598405708\n",
      "_____________________________\n",
      "n_estimators: 30\n",
      "F1: 0.6044444444444445\n",
      "AUC-ROC: 0.8435926213703991\n",
      "_____________________________\n",
      "n_estimators: 40\n",
      "F1: 0.6052631578947368\n",
      "AUC-ROC: 0.8448408587297476\n",
      "_____________________________\n",
      "n_estimators: 50\n",
      "F1: 0.6065934065934065\n",
      "AUC-ROC: 0.8466430688652911\n",
      "_____________________________\n",
      "n_estimators: 60\n",
      "F1: 0.6071428571428572\n",
      "AUC-ROC: 0.8492654464876688\n",
      "_____________________________\n",
      "n_estimators: 70\n",
      "F1: 0.6013363028953229\n",
      "AUC-ROC: 0.8474308613197501\n",
      "_____________________________\n",
      "n_estimators: 80\n",
      "F1: 0.6044444444444445\n",
      "AUC-ROC: 0.8479632507410286\n",
      "_____________________________\n",
      "n_estimators: 90\n",
      "F1: 0.5951859956236324\n",
      "AUC-ROC: 0.84827980661314\n",
      "_____________________________\n",
      "n_estimators: 100\n",
      "F1: 0.6008771929824561\n",
      "AUC-ROC: 0.848031598031598\n",
      "_____________________________\n"
     ]
    }
   ],
   "source": [
    "# Model Random Forest Classifier dengan data Downsampling\n",
    "range_estimators = range(10, 101, 10)\n",
    "\n",
    "for esti in range_estimators:\n",
    "    model_Rforest = RandomForestClassifier(random_state=2023, n_estimators=esti)\n",
    "    model_Rforest.fit(features_downsampled, target_downsampled)\n",
    "\n",
    "    predicted_model = model_Rforest.predict(features_valid)\n",
    "    probabilities_valid = model_Rforest.predict_proba(features_valid)[:, 1]\n",
    "\n",
    "    print('n_estimators:', esti)\n",
    "    print('F1:', f1_score(target_valid, predicted_model))\n",
    "    print('AUC-ROC:', roc_auc_score(target_valid, probabilities_valid))\n",
    "    print('_____________________________')"
   ]
  },
  {
   "cell_type": "markdown",
   "metadata": {},
   "source": [
    "**Kesimpulan**\n",
    "\n",
    "Ada beberapa kesimpulan dari proses mengatasi ketidakseimbangan kelas dengan menggunakan metode Downsampling ini, yaitu:\n",
    "\n",
    "1. Downsampling menggunakan fitur dan target data.\n",
    "2. Metode Downsampling menggunakan 3 model yang dilatih, model tersebut adalah: Logistic Regression, Decision Tree Classifier, Random Forest Classifier.\n",
    "3. Model dengan nilai F1 dan AUC-ROC terbaik adalah model Random Forest Classifier.\n",
    "4. Model Random Forest Classifier menggunakan paramter n_estimators dari 10-100 dengan kelipatan 10. Hasil dari nilai F1 dan AUC-ROC adalah model dengan n_estimators 90."
   ]
  },
  {
   "cell_type": "markdown",
   "metadata": {},
   "source": [
    "### Kesimpulan Mengatasi Keseimbangan Kelas"
   ]
  },
  {
   "cell_type": "markdown",
   "metadata": {},
   "source": [
    "Ada beberapa kesimpulan untuk tahap ini, diantaranya:\n",
    "1. Ada 2 metode yang digunakan untuk mengatasi ketidakseimbangan kelas pada data, yaitu Upsampling dan Downsampling.\n",
    "2. Kedua metode yang dilakukan pengujian terhadap model memiliki nilia F1 dan AUC-ROC yang berbeda.\n",
    "3. Dari kedua metode tersebut, didapat model yang terbaik yaitu model Random Forest Classifier.\n",
    "4. Dari kedua metode yang ada, metode Upsampling adalah metode yang lebih baik dari Downsampling dari segi nilai F1 dan AUC-ROC. Upsampling dengan menggunakan model Random Forest Classifier memiliki nilai F1 dan AUC-ROC yang terbaik dari ketiga model yang dilatih. Dengan n_estimators yang di set di 60. "
   ]
  },
  {
   "cell_type": "markdown",
   "metadata": {},
   "source": [
    "## Tahap 8. Pengujian Terakhir"
   ]
  },
  {
   "cell_type": "markdown",
   "metadata": {},
   "source": [
    "Dari hasil pengujian yang telah dilakukan, didapat bahwa metode untuk mengatasi ketidakseimbangan kelas adalh dengan menggunakan metode upsapling dan model terbaik yang memiliki nilai F1 dan AUC-ROC tertinggi adalah model Random Forest Classifier dengan n_estimators yang diset di 60. Mari lakukan pengujian terakhir dengan menggunakan test set dengan metode dan model terbaik sesuai hasil dari pengujian sebulumnya."
   ]
  },
  {
   "cell_type": "code",
   "execution_count": 39,
   "metadata": {},
   "outputs": [
    {
     "name": "stdout",
     "output_type": "stream",
     "text": [
      "n_estimators: 60\n",
      "F1: 0.5821325648414986\n",
      "AUC-ROC: 0.8405457711013267\n",
      "_____________________________\n"
     ]
    }
   ],
   "source": [
    "model_final = RandomForestClassifier(random_state=2023, n_estimators=60)\n",
    "model_final.fit(features_upsampled, target_upsampled)\n",
    "\n",
    "predicted_model = model_final.predict(features_valid)\n",
    "probabilities_valid = model_final.predict_proba(features_valid)[:, 1]\n",
    "\n",
    "print('n_estimators:', 60)\n",
    "print('F1:', f1_score(target_valid, predicted_model))\n",
    "print('AUC-ROC:', roc_auc_score(target_valid, probabilities_valid))\n",
    "print('_____________________________')"
   ]
  },
  {
   "cell_type": "code",
   "execution_count": 40,
   "metadata": {},
   "outputs": [
    {
     "name": "stdout",
     "output_type": "stream",
     "text": [
      "n_estimators: 60\n",
      "F1: 0.6185567010309279\n",
      "AUC-ROC: 0.8489699429831765\n",
      "_____________________________\n"
     ]
    }
   ],
   "source": [
    "predicted_model_test = model_final.predict(features_test)\n",
    "probabilities_test = model_final.predict_proba(features_test)[:, 1]\n",
    "\n",
    "print('n_estimators:', 60)\n",
    "print('F1:', f1_score(target_test, predicted_model_test))\n",
    "print('AUC-ROC:', roc_auc_score(target_test, probabilities_test))\n",
    "print('_____________________________')"
   ]
  },
  {
   "cell_type": "markdown",
   "metadata": {},
   "source": [
    "**Kesimpulan**\n",
    "\n",
    "Dari hasil pengujian terakhir ini, didapat nilai F1 dan AUC-ROC pada model yang dilatih dengan Random Forest Classifier yang n_estimators nya diset 60 didapat nilai F1 yaitu 0.60 dan nilai AUC-ROC yaitu 0.83. Pengujian terakhir pun dilakukan pada test set yang menggunkan metode dan model yang sama. Didapat nilai F1 yaitu 0.596 dan nilai AUC_ROC yaitu 0.860. Nilia tersebut sudah melampaui nilai standar yang diberikan. Dapat dikatakan bahwa pengujian ini sudah berhasil dan nilai F1 dan AUC-ROC pun berhasil melampaui nilai standar tersebut."
   ]
  },
  {
   "cell_type": "markdown",
   "metadata": {},
   "source": [
    "## Tahap 9. Kesimpulan Umum"
   ]
  },
  {
   "cell_type": "markdown",
   "metadata": {},
   "source": [
    "Ada beberapa kesimpulan dari pengujian yang telah dilakukan, berikut adalah kesimpulannya:\n",
    "1. Data berada di data path berikut ini /datasets/Churn.csv. Data disimpan pada variable data.\n",
    "2. Data yang dimiliki memiliki 10000 entries dan 14 kolom.\n",
    "3. Dari 14 kolom tersebut 1 diantaranya adalah target yaitu kolom `Exited` dan sisanya adalah fitur.\n",
    "4. Terdapat missing value pada kolom `Tenure`. Missing value diatasi dengan mengisi nilai media pada kolom ini karena nilai median terbilang lebih aman dan tidak akan terlalu mengganggu pada proses pengujian.\n",
    "5. Kolom `Geography` dan `Gender` adalah kolom kategorikal, karena itu one hot encoder digunakan pada kolom ini agar dapat memudahkan proses pengujian.\n",
    "6. Data yang ada ternyata memiliki ketidak seimbangan kelas, persentasenya pun cukup jauh 7. satu sama lain.\n",
    "7. Data yang ada dibagi menjadi 3 bagian data, yaitu training set, validation set, dan test set.\n",
    "8. Model yang digunakan pada penelitian kali ini ada 3 model, yaitu Logistic Regression, Decission Tree, dan juga Random Forest. Pada model Logistic Regression parameter yang digunakan adalah nilai dari penalty, untuk model Decission Tree parametr yang digunakan adalah nilai dari max depth, dan pada model Random Forest parameter yang digunakan adalah nilai dari n_estimators.\n",
    "9. Proses untuk mengatasi ketidakseimbangan kelas pada pengujian kali ini menggunakan 2 metode yaitu Upsampling dan Downsampling.\n",
    "10. 3 model dilatih pada 2 metode tersebut untuk mengatasi ketidakseimbangan kelas.\n",
    "11. Dari hasil yang ada, didapat metode upsampling adalah metode terbaik untuk mengatasi ketidakseimbangan kelas. Untuk model terbaik adalah model dari Random Forest Classifier dengan n_estimators yang diset di 60.\n",
    "12. Pengujian terakhir dilakukan menggunakan test set. Model dan metode terbaik digunakan pada pengujian terakhir ini.\n",
    "12. Hasil dari pengujian terakhir didapat:\n",
    "    - Model Random Forest Classifier dengan n_estimators 60 dilatih \n",
    "    - Metode upsampling digunakan untuk mengatasi ketidakseimbangan kelas.\n",
    "    - Pada model yang dilatih nilai F1 yaitu 0.60 dan nilai AUC-ROC yaitu 0.83. \n",
    "    - Pada test set didapat nilai F1 yaitu 0.596 dan nilai AUC_ROC yaitu 0.860. \n",
    "13. Dari hasil yang didapat dari pengujian terakhir nilai tersebut sudah melampaui nilai standar yang diberikan. Dapat dikatakan bahwa pengujian ini sudah berhasil dan nilai F1 dan AUC-ROC pun berhasil melampaui nilai standar tersebut."
   ]
  },
  {
   "cell_type": "code",
   "execution_count": null,
   "metadata": {},
   "outputs": [],
   "source": []
  }
 ],
 "metadata": {
  "kernelspec": {
   "display_name": "Python 3 (ipykernel)",
   "language": "python",
   "name": "python3"
  },
  "language_info": {
   "codemirror_mode": {
    "name": "ipython",
    "version": 3
   },
   "file_extension": ".py",
   "mimetype": "text/x-python",
   "name": "python",
   "nbconvert_exporter": "python",
   "pygments_lexer": "ipython3",
   "version": "3.11.4"
  },
  "toc": {
   "base_numbering": 1,
   "nav_menu": {},
   "number_sections": true,
   "sideBar": true,
   "skip_h1_title": true,
   "title_cell": "Table of Contents",
   "title_sidebar": "Contents",
   "toc_cell": false,
   "toc_position": {
    "height": "calc(100% - 180px)",
    "left": "10px",
    "top": "150px",
    "width": "291.194px"
   },
   "toc_section_display": true,
   "toc_window_display": true
  }
 },
 "nbformat": 4,
 "nbformat_minor": 2
}
